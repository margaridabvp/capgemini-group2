{
 "cells": [
  {
   "cell_type": "markdown",
   "id": "2ba389ea",
   "metadata": {},
   "source": [
    "# Feature Engineering & Model Trials – Lucía\n",
    "\n",
    "## Objective\n",
    "This notebook focuses on exploring the merged dataset, engineering meaningful features, and testing baseline models to predict packaging quality.\n",
    "\n",
    "## Scope\n",
    "- Understand and preprocess key variables\n",
    "- Create and test new features\n",
    "- Train baseline models (LogReg, Random Forest, etc.)\n",
    "- Compare initial performance and select best direction\n"
   ]
  },
  {
   "cell_type": "markdown",
   "id": "b2de1070",
   "metadata": {},
   "source": [
    "## **STEP 0 - LIBRARIES IMPORT**"
   ]
  },
  {
   "cell_type": "code",
   "execution_count": 2,
   "id": "acaf6d9a",
   "metadata": {},
   "outputs": [],
   "source": [
    "import pandas as pd\n",
    "import numpy as np"
   ]
  },
  {
   "cell_type": "markdown",
   "id": "69259cbe",
   "metadata": {},
   "source": [
    "## **STEP 1 - DATA COLLECTION & BASIC UNDERSTANDING**"
   ]
  },
  {
   "cell_type": "code",
   "execution_count": null,
   "id": "4443c865",
   "metadata": {},
   "outputs": [],
   "source": [
    "df = pd.read_csv(\"churn_all.csv\") "
   ]
  }
 ],
 "metadata": {
  "kernelspec": {
   "display_name": "Python 3",
   "language": "python",
   "name": "python3"
  },
  "language_info": {
   "codemirror_mode": {
    "name": "ipython",
    "version": 3
   },
   "file_extension": ".py",
   "mimetype": "text/x-python",
   "name": "python",
   "nbconvert_exporter": "python",
   "pygments_lexer": "ipython3",
   "version": "3.12.4"
  }
 },
 "nbformat": 4,
 "nbformat_minor": 5
}
